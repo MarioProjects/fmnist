{
 "cells": [
  {
   "cell_type": "markdown",
   "id": "c426e6f5-76f6-47b5-bfed-50f25298cdcc",
   "metadata": {},
   "source": [
    "## Database setup"
   ]
  },
  {
   "cell_type": "code",
   "execution_count": 21,
   "id": "84dc5783-180c-46ea-9b2b-73e5bfa199d4",
   "metadata": {},
   "outputs": [],
   "source": [
    "import json\n",
    "from sqlalchemy import create_engine, Column, Integer, String, Text, ForeignKey\n",
    "from sqlalchemy.orm import sessionmaker, relationship, declarative_base"
   ]
  },
  {
   "cell_type": "code",
   "execution_count": 2,
   "id": "dddf4f84-a9db-4033-a9fe-bb4e15242efe",
   "metadata": {},
   "outputs": [],
   "source": [
    "# Define the database connection string\n",
    "DATABASE_URL = 'sqlite:///challenge.db'  # You can replace this with your desired database URL\n",
    "\n",
    "# Create an SQLAlchemy engine\n",
    "engine = create_engine(DATABASE_URL)\n",
    "\n",
    "# Define the base class for declarative models\n",
    "Base = declarative_base()"
   ]
  },
  {
   "cell_type": "code",
   "execution_count": 3,
   "id": "39ac3b6c-2332-41f1-90bc-1f4d5390154a",
   "metadata": {},
   "outputs": [],
   "source": [
    "# Define the Product table\n",
    "class Product(Base):\n",
    "    __tablename__ = 'Product'\n",
    "    Id = Column(Integer, primary_key=True)\n",
    "    Title = Column(String(100))"
   ]
  },
  {
   "cell_type": "code",
   "execution_count": 4,
   "id": "1eeb3d87-de77-4fa8-81be-f5375724e298",
   "metadata": {},
   "outputs": [],
   "source": [
    "# Define the ProductDescription table\n",
    "class ProductDescription(Base):\n",
    "    __tablename__ = 'ProductDescription'\n",
    "    Id = Column(Integer, primary_key=True)\n",
    "    ProductId = Column(Integer, ForeignKey('Product.Id'))\n",
    "    CountryCode = Column(Text)\n",
    "    OriginalText = Column(Text)\n",
    "    TranslatedText = Column(Text)\n",
    "    product = relationship(\"Product\")"
   ]
  },
  {
   "cell_type": "code",
   "execution_count": 5,
   "id": "c74f84c8-8c3c-4959-9400-4b572046627e",
   "metadata": {},
   "outputs": [],
   "source": [
    "# Define the ProductImages table\n",
    "class ProductImages(Base):\n",
    "    __tablename__ = 'ProductImages'\n",
    "    Id = Column(Integer, primary_key=True)\n",
    "    ImageId = Column(Integer, ForeignKey('Image.Id'))\n",
    "    ProductId = Column(Integer, ForeignKey('Product.Id'))\n",
    "    ImageIndex = Column(Integer)\n",
    "    product = relationship(\"Product\")\n",
    "    image = relationship(\"Image\")"
   ]
  },
  {
   "cell_type": "code",
   "execution_count": 6,
   "id": "96fff4b3-5ed8-4796-bee1-0d3b3788dfdb",
   "metadata": {},
   "outputs": [],
   "source": [
    "# Define the Image table\n",
    "class Image(Base):\n",
    "    __tablename__ = 'Image'\n",
    "    Id = Column(Integer, primary_key=True)\n",
    "    Url = Column(Text)"
   ]
  },
  {
   "cell_type": "markdown",
   "id": "cf322012-f88c-4870-822e-f9269485d5d7",
   "metadata": {},
   "source": [
    "---"
   ]
  },
  {
   "cell_type": "code",
   "execution_count": 7,
   "id": "8ed3e672-3125-4b0a-9660-cc9fb896c51e",
   "metadata": {},
   "outputs": [],
   "source": [
    "# Create the tables in the database\n",
    "Base.metadata.create_all(engine)"
   ]
  },
  {
   "cell_type": "code",
   "execution_count": 8,
   "id": "5116a57d-6397-43fb-be34-3a1bb199e49f",
   "metadata": {},
   "outputs": [],
   "source": [
    "# Create a session to interact with the database\n",
    "Session = sessionmaker(bind=engine)\n",
    "session = Session()"
   ]
  },
  {
   "cell_type": "code",
   "execution_count": 9,
   "id": "e0382e58-21eb-479d-86ec-206dcf2e44b6",
   "metadata": {},
   "outputs": [],
   "source": [
    "# Populate with sample data\n",
    "product1 = Product(Title=\"Product 1\")\n",
    "product2 = Product(Title=\"Product 2\")"
   ]
  },
  {
   "cell_type": "code",
   "execution_count": 10,
   "id": "276d6a7e-2583-4ebe-b09a-0f7afe9bfdd6",
   "metadata": {},
   "outputs": [],
   "source": [
    "desc1 = ProductDescription(\n",
    "    ProductId=1, CountryCode=\"US\",\n",
    "    OriginalText=\"Original text 1\",\n",
    "    TranslatedText=\"Translated text 1\"\n",
    ")\n",
    "desc2 = ProductDescription(\n",
    "    ProductId=1, CountryCode=\"UK\",\n",
    "    OriginalText=\"Original text 2\",\n",
    "    TranslatedText=\"Translated text 2\"\n",
    ")"
   ]
  },
  {
   "cell_type": "code",
   "execution_count": 11,
   "id": "802fd68b-5ad6-4e1e-a205-24e4777b07a3",
   "metadata": {},
   "outputs": [],
   "source": [
    "image1 = Image(Url=\"https://example.com/image1.jpg\")\n",
    "image2 = Image(Url=\"https://example.com/image2.jpg\")"
   ]
  },
  {
   "cell_type": "code",
   "execution_count": 12,
   "id": "d994ee2a-144f-4f57-abe4-58fc34798dc5",
   "metadata": {},
   "outputs": [],
   "source": [
    "product_image1 = ProductImages(ProductId=1, ImageId=1, ImageIndex=0)\n",
    "product_image2 = ProductImages(ProductId=1, ImageId=2, ImageIndex=0)\n",
    "product_image3 = ProductImages(ProductId=2, ImageId=2, ImageIndex=1)"
   ]
  },
  {
   "cell_type": "code",
   "execution_count": 13,
   "id": "9b0d3f92-3702-44d9-b3d2-b01538ea96bf",
   "metadata": {},
   "outputs": [],
   "source": [
    "# Add data to the session\n",
    "session.add_all([\n",
    "    product1, product2,\n",
    "    desc1, desc2,\n",
    "    image1, image2,\n",
    "    product_image1, product_image2, product_image3\n",
    "])\n",
    "\n",
    "# Commit the changes to the database\n",
    "session.commit()"
   ]
  },
  {
   "cell_type": "markdown",
   "id": "67d77cad-e49d-4f23-ba7d-6cdaa46b310b",
   "metadata": {},
   "source": [
    "------"
   ]
  },
  {
   "cell_type": "markdown",
   "id": "c1f0bb1c-006a-4262-9567-59abee47f12e",
   "metadata": {},
   "source": [
    "## Challenge Query"
   ]
  },
  {
   "cell_type": "markdown",
   "id": "7354748b-192e-4f6f-a8fe-006ad7c3a18f",
   "metadata": {},
   "source": [
    "Extract, for every existing product, the following fields:\n",
    "- `Product.Title`\n",
    "- `Image.Url` for the images with the ImageIndex = 0. *ImageIndex field states the priority order of images of a certain product. So for a given ProductId, the image with ImageIndex = 0 would be the most relevant image for that product.*\n",
    "- `ProductDescription.TranslatedText` if exists, else `ProductDescription.OriginalText` for `ProductDescriptions` in `CountryCode = ‘us’`."
   ]
  },
  {
   "cell_type": "code",
   "execution_count": 14,
   "id": "aefdf539",
   "metadata": {},
   "outputs": [],
   "source": [
    "all_products = session.query(Product).all()"
   ]
  },
  {
   "cell_type": "code",
   "execution_count": 19,
   "id": "784e2d35",
   "metadata": {},
   "outputs": [],
   "source": [
    "res = []\n",
    "for product in all_products:\n",
    "    data = {\"title\": product.Title}\n",
    "    data[\"descriptions\"] = []\n",
    "    data[\"images\"] = []\n",
    "    \n",
    "    product_images = session.query(ProductImages).filter_by(ProductId=product.Id, ImageIndex=0).all()\n",
    "    for product_image in product_images:\n",
    "        image = session.query(Image).filter_by(Id=product_image.ImageId).first()\n",
    "        data[\"images\"].append(image.Url)\n",
    "\n",
    "    product_descriptions = session.query(ProductDescription).filter_by(ProductId=product.Id).all()\n",
    "    for description in product_descriptions:\n",
    "        cc = description.CountryCode\n",
    "        if description.TranslatedText:\n",
    "            data[\"descriptions\"].append({\n",
    "                \"cc\": cc, \"type\": \"translated\", \"text\": description.TranslatedText\n",
    "            })\n",
    "        elif description.OriginalText and cc.lower() == \"us\":\n",
    "            data[\"descriptions\"].append({\n",
    "                \"cc\": \"us\", \"type\": \"original\", \"text\": description.OriginalText\n",
    "            })\n",
    "\n",
    "    res.append(data)"
   ]
  },
  {
   "cell_type": "code",
   "execution_count": 22,
   "id": "98986041",
   "metadata": {},
   "outputs": [
    {
     "name": "stdout",
     "output_type": "stream",
     "text": [
      "[\n",
      "    {\n",
      "        \"descriptions\": [\n",
      "            {\n",
      "                \"cc\": \"US\",\n",
      "                \"text\": \"Translated text 1\",\n",
      "                \"type\": \"translated\"\n",
      "            },\n",
      "            {\n",
      "                \"cc\": \"UK\",\n",
      "                \"text\": \"Translated text 2\",\n",
      "                \"type\": \"translated\"\n",
      "            }\n",
      "        ],\n",
      "        \"images\": [\n",
      "            \"https://example.com/image1.jpg\",\n",
      "            \"https://example.com/image2.jpg\"\n",
      "        ],\n",
      "        \"title\": \"Product 1\"\n",
      "    },\n",
      "    {\n",
      "        \"descriptions\": [],\n",
      "        \"images\": [],\n",
      "        \"title\": \"Product 2\"\n",
      "    }\n",
      "]\n"
     ]
    }
   ],
   "source": [
    "print(json.dumps(res, sort_keys=True, indent=4))"
   ]
  }
 ],
 "metadata": {
  "kernelspec": {
   "display_name": "Python 3 (ipykernel)",
   "language": "python",
   "name": "python3"
  },
  "language_info": {
   "codemirror_mode": {
    "name": "ipython",
    "version": 3
   },
   "file_extension": ".py",
   "mimetype": "text/x-python",
   "name": "python",
   "nbconvert_exporter": "python",
   "pygments_lexer": "ipython3",
   "version": "3.10.11"
  }
 },
 "nbformat": 4,
 "nbformat_minor": 5
}
