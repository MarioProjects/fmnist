{
 "cells": [
  {
   "cell_type": "markdown",
   "id": "33826ea3-2f40-4681-a999-bd728d6c7f34",
   "metadata": {},
   "source": [
    "In the following notebook, we will see how to use Albumentations library for image augmentation. This notebook serves as a playground for the library. We will see how to use the library for image augmentation and how the augmented images look like.\n",
    "\n",
    "You can check a more completed playground in the following page: https://demo.albumentations.ai/"
   ]
  },
  {
   "cell_type": "markdown",
   "id": "fbe340a5",
   "metadata": {},
   "source": [
    "### Import Libraries"
   ]
  },
  {
   "cell_type": "code",
   "execution_count": 1,
   "id": "ae45878c",
   "metadata": {},
   "outputs": [],
   "source": [
    "# append the path of the parent directory\n",
    "import sys\n",
    "sys.path.append(\"..\")"
   ]
  },
  {
   "cell_type": "code",
   "execution_count": 2,
   "id": "cc010c21",
   "metadata": {},
   "outputs": [],
   "source": [
    "from etl.dataset import CustomFashionMNISTDataModule, LABEL_TO_CLASS"
   ]
  },
  {
   "cell_type": "code",
   "execution_count": 3,
   "id": "0ff74e09",
   "metadata": {},
   "outputs": [],
   "source": [
    "import matplotlib.pyplot as plt\n",
    "import albumentations as A\n",
    "from albumentations.pytorch.transforms import ToTensorV2"
   ]
  },
  {
   "cell_type": "markdown",
   "id": "54871d1d",
   "metadata": {},
   "source": [
    "## Data Loading"
   ]
  },
  {
   "cell_type": "code",
   "execution_count": 4,
   "id": "92d541b1",
   "metadata": {},
   "outputs": [],
   "source": [
    "# Define data transformations\n",
    "transform = A.Compose([\n",
    "    ToTensorV2()\n",
    "])"
   ]
  },
  {
   "cell_type": "code",
   "execution_count": 5,
   "id": "5c94147d",
   "metadata": {},
   "outputs": [
    {
     "data": {
      "text/plain": [
       "(torch.Size([64, 1, 1, 28, 28]), torch.Size([64]))"
      ]
     },
     "execution_count": 5,
     "metadata": {},
     "output_type": "execute_result"
    }
   ],
   "source": [
    "dm = CustomFashionMNISTDataModule(transform, transform, normalization=\"none\")\n",
    "dm.setup()\n",
    "imgs, labels = next(iter(dm.train_dataloader()))\n",
    "imgs.shape, labels.shape"
   ]
  },
  {
   "cell_type": "code",
   "execution_count": 6,
   "id": "6c750e27-7f61-43f0-800d-7c8a665f0cf3",
   "metadata": {},
   "outputs": [
    {
     "name": "stdout",
     "output_type": "stream",
     "text": [
      "Max imgs value: 255.0\n",
      "Min imgs value: 0.0\n"
     ]
    }
   ],
   "source": [
    "print(f\"Max imgs value: {imgs.max()}\")\n",
    "print(f\"Min imgs value: {imgs.min()}\")"
   ]
  },
  {
   "cell_type": "markdown",
   "id": "c10eb42f",
   "metadata": {},
   "source": [
    "----"
   ]
  },
  {
   "cell_type": "markdown",
   "id": "239c7fcd",
   "metadata": {},
   "source": [
    "## Data Augmentations"
   ]
  },
  {
   "cell_type": "markdown",
   "id": "e24a00dc-48c6-4edd-b9f2-4b9c8009d15f",
   "metadata": {},
   "source": [
    "### Original Image"
   ]
  },
  {
   "cell_type": "code",
   "execution_count": 7,
   "id": "877769f2-e260-4600-b1be-1570ea27880b",
   "metadata": {},
   "outputs": [],
   "source": [
    "single_clase = imgs[0, 0, ...].data.cpu().numpy()"
   ]
  },
  {
   "cell_type": "code",
   "execution_count": 8,
   "id": "c75f47fc-f9b9-4703-a482-28694ac0a311",
   "metadata": {},
   "outputs": [
    {
     "data": {
      "text/plain": [
       "(-0.5, 27.5, 27.5, -0.5)"
      ]
     },
     "execution_count": 8,
     "metadata": {},
     "output_type": "execute_result"
    },
    {
     "data": {
      "image/png": "[encoded data removed]",
      "text/plain": [
       "<Figure size 200x200 with 1 Axes>"
      ]
     },
     "metadata": {},
     "output_type": "display_data"
    }
   ],
   "source": [
    "plt.figure(figsize=(2,2))\n",
    "plt.imshow(single_clase, cmap=\"gray\")\n",
    "plt.axis(\"off\")"
   ]
  },
  {
   "cell_type": "markdown",
   "id": "e8d49797-86fe-4b24-ab70-0443bc2dabea",
   "metadata": {},
   "source": [
    "### Horizontal Flip"
   ]
  },
  {
   "cell_type": "code",
   "execution_count": 9,
   "id": "f9e91939-ce5c-45a6-8b13-ea499d3c6df1",
   "metadata": {},
   "outputs": [],
   "source": [
    "my_augmentation = A.Compose([\n",
    "    A.HorizontalFlip(p=1)\n",
    "])\n",
    "augmented = my_augmentation(image=single_clase)[\"image\"]"
   ]
  },
  {
   "cell_type": "code",
   "execution_count": 10,
   "id": "937c499c-4dbf-4f7a-82d4-7ce896fc0cdf",
   "metadata": {},
   "outputs": [
    {
     "data": {
      "text/plain": [
       "(-0.5, 27.5, 27.5, -0.5)"
      ]
     },
     "execution_count": 10,
     "metadata": {},
     "output_type": "execute_result"
    },
    {
     "data": {
      "image/png": "[encoded data removed]",
      "text/plain": [
       "<Figure size 200x200 with 1 Axes>"
      ]
     },
     "metadata": {},
     "output_type": "display_data"
    }
   ],
   "source": [
    "plt.figure(figsize=(2,2))\n",
    "plt.imshow(augmented, cmap=\"gray\")\n",
    "plt.axis(\"off\")"
   ]
  },
  {
   "cell_type": "markdown",
   "id": "4fb7612e-8a5a-46ac-908f-ce9565eebb11",
   "metadata": {},
   "source": [
    "### Vertical Flip"
   ]
  },
  {
   "cell_type": "code",
   "execution_count": 11,
   "id": "5e34f05a-4bc4-4094-ae77-aa3c32669230",
   "metadata": {},
   "outputs": [],
   "source": [
    "my_augmentation = A.Compose([\n",
    "    A.VerticalFlip(p=1)\n",
    "])\n",
    "augmented = my_augmentation(image=single_clase)[\"image\"]"
   ]
  },
  {
   "cell_type": "code",
   "execution_count": 12,
   "id": "23fc35f9-5f83-4543-a978-bc5cb4ccea82",
   "metadata": {},
   "outputs": [
    {
     "data": {
      "text/plain": [
       "(-0.5, 27.5, 27.5, -0.5)"
      ]
     },
     "execution_count": 12,
     "metadata": {},
     "output_type": "execute_result"
    },
    {
     "data": {
      "image/png": "[encoded data removed]",
      "text/plain": [
       "<Figure size 200x200 with 1 Axes>"
      ]
     },
     "metadata": {},
     "output_type": "display_data"
    }
   ],
   "source": [
    "plt.figure(figsize=(2,2))\n",
    "plt.imshow(augmented, cmap=\"gray\")\n",
    "plt.axis(\"off\")"
   ]
  },
  {
   "cell_type": "markdown",
   "id": "5f236370-8b0d-420d-8d55-ac57d4386c6a",
   "metadata": {},
   "source": [
    "### Rotate"
   ]
  },
  {
   "cell_type": "code",
   "execution_count": 13,
   "id": "c27ec6c5-13d7-4362-bd9d-2695d850564c",
   "metadata": {},
   "outputs": [],
   "source": [
    "my_augmentation = A.Compose([\n",
    "    A.Rotate(\n",
    "        p=1.0, limit=(-75, 75),\n",
    "        interpolation=0, border_mode=0, value=(0, 0, 0),\n",
    "        mask_value=None, crop_border=False\n",
    "    )\n",
    "])\n",
    "augmented = my_augmentation(image=single_clase)[\"image\"]"
   ]
  },
  {
   "cell_type": "code",
   "execution_count": 14,
   "id": "4227052d-eb3a-4cf4-a74e-4531fc728107",
   "metadata": {},
   "outputs": [
    {
     "data": {
      "text/plain": [
       "(-0.5, 27.5, 27.5, -0.5)"
      ]
     },
     "execution_count": 14,
     "metadata": {},
     "output_type": "execute_result"
    },
    {
     "data": {
      "image/png": "[encoded data removed]",
      "text/plain": [
       "<Figure size 200x200 with 1 Axes>"
      ]
     },
     "metadata": {},
     "output_type": "display_data"
    }
   ],
   "source": [
    "plt.figure(figsize=(2,2))\n",
    "plt.imshow(augmented, cmap=\"gray\")\n",
    "plt.axis(\"off\")"
   ]
  },
  {
   "cell_type": "markdown",
   "id": "ef1c01d2-75ba-468b-9f92-a84e99c094c8",
   "metadata": {},
   "source": [
    "### Posterize"
   ]
  },
  {
   "cell_type": "code",
   "execution_count": 15,
   "id": "a62548cc-1b31-41de-90c2-0dfe66aaa051",
   "metadata": {},
   "outputs": [],
   "source": [
    "my_augmentation = A.Compose([\n",
    "    A.Posterize(\n",
    "        p=1.0, num_bits=[2, 5]\n",
    "    )\n",
    "])\n",
    "augmented = my_augmentation(image=single_clase)[\"image\"]"
   ]
  },
  {
   "cell_type": "code",
   "execution_count": 16,
   "id": "037cf269-aacd-4444-ab9d-1c840d7e5a19",
   "metadata": {},
   "outputs": [
    {
     "data": {
      "text/plain": [
       "(-0.5, 27.5, 27.5, -0.5)"
      ]
     },
     "execution_count": 16,
     "metadata": {},
     "output_type": "execute_result"
    },
    {
     "data": {
      "image/png": "[encoded data removed]",
      "text/plain": [
       "<Figure size 200x200 with 1 Axes>"
      ]
     },
     "metadata": {},
     "output_type": "display_data"
    }
   ],
   "source": [
    "plt.figure(figsize=(2,2))\n",
    "plt.imshow(augmented, cmap=\"gray\")\n",
    "plt.axis(\"off\")"
   ]
  },
  {
   "cell_type": "markdown",
   "id": "d5c45cb2-cb7d-4df5-beb6-424501ef3758",
   "metadata": {},
   "source": [
    "### Contrast"
   ]
  },
  {
   "cell_type": "code",
   "execution_count": 17,
   "id": "d6077b1b-8e90-4993-8088-871fddea08db",
   "metadata": {},
   "outputs": [],
   "source": [
    "my_augmentation = A.Compose([\n",
    "    A.RandomBrightnessContrast(p=1.0, brightness_limit=(0), contrast_limit=(-0.5, 0.5))\n",
    "])\n",
    "augmented = my_augmentation(image=single_clase)[\"image\"]"
   ]
  },
  {
   "cell_type": "code",
   "execution_count": 18,
   "id": "80f49853-0d54-4d5e-abdb-3af14bc82cd5",
   "metadata": {},
   "outputs": [
    {
     "data": {
      "text/plain": [
       "(-0.5, 27.5, 27.5, -0.5)"
      ]
     },
     "execution_count": 18,
     "metadata": {},
     "output_type": "execute_result"
    },
    {
     "data": {
      "image/png": "[encoded data removed]",
      "text/plain": [
       "<Figure size 200x200 with 1 Axes>"
      ]
     },
     "metadata": {},
     "output_type": "display_data"
    }
   ],
   "source": [
    "plt.figure(figsize=(2,2))\n",
    "plt.imshow(augmented, cmap=\"gray\")\n",
    "plt.axis(\"off\")"
   ]
  },
  {
   "cell_type": "markdown",
   "id": "2a0b8fb9-8d65-4268-bc7a-69bdf2369e71",
   "metadata": {},
   "source": [
    "### Brightness"
   ]
  },
  {
   "cell_type": "code",
   "execution_count": 19,
   "id": "19f2261c-142f-40fe-b17e-2d62653ad7da",
   "metadata": {},
   "outputs": [],
   "source": [
    "my_augmentation = A.Compose([\n",
    "    A.RandomBrightnessContrast(p=1.0, brightness_limit=(-0.5, 0.5), contrast_limit=(0), brightness_by_max=True)\n",
    "])\n",
    "augmented = my_augmentation(image=single_clase)[\"image\"]"
   ]
  },
  {
   "cell_type": "code",
   "execution_count": 20,
   "id": "590f50a4-2a01-4897-829e-4846c7000762",
   "metadata": {},
   "outputs": [
    {
     "data": {
      "text/plain": [
       "(-0.5, 27.5, 27.5, -0.5)"
      ]
     },
     "execution_count": 20,
     "metadata": {},
     "output_type": "execute_result"
    },
    {
     "data": {
      "image/png": "[encoded data removed]",
      "text/plain": [
       "<Figure size 200x200 with 1 Axes>"
      ]
     },
     "metadata": {},
     "output_type": "display_data"
    }
   ],
   "source": [
    "plt.figure(figsize=(2,2))\n",
    "plt.imshow(augmented, cmap=\"gray\")\n",
    "plt.axis(\"off\")"
   ]
  },
  {
   "cell_type": "markdown",
   "id": "7ae7359e-990c-44cc-88ba-9639c334ab3c",
   "metadata": {},
   "source": [
    "### Blur"
   ]
  },
  {
   "cell_type": "code",
   "execution_count": 21,
   "id": "46619647-247e-4352-b796-6905f6c5fc4c",
   "metadata": {},
   "outputs": [],
   "source": [
    "my_augmentation = A.Compose([\n",
    "    A.AdvancedBlur(\n",
    "        p=1.0,\n",
    "        blur_limit=(3, 7),\n",
    "        sigmaX_limit=(0.2, 1.0),\n",
    "        sigmaY_limit=(0.2, 1.0),\n",
    "        rotate_limit=(-90, 90),\n",
    "        beta_limit=(0.5, 8.0),\n",
    "        noise_limit=(0.9, 1.1)\n",
    "    )\n",
    "])\n",
    "augmented = my_augmentation(image=single_clase)[\"image\"]"
   ]
  },
  {
   "cell_type": "code",
   "execution_count": 22,
   "id": "d399884b-3253-4dfd-ba0e-0d4d605a7db0",
   "metadata": {},
   "outputs": [
    {
     "data": {
      "text/plain": [
       "(-0.5, 27.5, 27.5, -0.5)"
      ]
     },
     "execution_count": 22,
     "metadata": {},
     "output_type": "execute_result"
    },
    {
     "data": {
      "image/png": "[encoded data removed]",
      "text/plain": [
       "<Figure size 200x200 with 1 Axes>"
      ]
     },
     "metadata": {},
     "output_type": "display_data"
    }
   ],
   "source": [
    "plt.figure(figsize=(2,2))\n",
    "plt.imshow(augmented, cmap=\"gray\")\n",
    "plt.axis(\"off\")"
   ]
  },
  {
   "cell_type": "markdown",
   "id": "02c00a14-8ef5-4378-b9eb-ac073c9eaa75",
   "metadata": {},
   "source": [
    "### Dropout"
   ]
  },
  {
   "cell_type": "code",
   "execution_count": 23,
   "id": "ab4d6908-12ff-40d0-b1c5-c125db3c2d88",
   "metadata": {},
   "outputs": [],
   "source": [
    "my_augmentation = A.Compose([\n",
    "    A.CoarseDropout(\n",
    "        p=1.0,\n",
    "        min_holes=3,\n",
    "        max_holes=6,\n",
    "        min_height=4,\n",
    "        max_height=6,\n",
    "        min_width=4,\n",
    "        max_width=6,\n",
    "        fill_value=0\n",
    "    )\n",
    "])\n",
    "augmented = my_augmentation(image=single_clase)[\"image\"]"
   ]
  },
  {
   "cell_type": "code",
   "execution_count": 24,
   "id": "a23302db-36ab-41ed-9612-2c40c162a89e",
   "metadata": {},
   "outputs": [
    {
     "data": {
      "text/plain": [
       "(-0.5, 27.5, 27.5, -0.5)"
      ]
     },
     "execution_count": 24,
     "metadata": {},
     "output_type": "execute_result"
    },
    {
     "data": {
      "image/png": "[encoded data removed]",
      "text/plain": [
       "<Figure size 200x200 with 1 Axes>"
      ]
     },
     "metadata": {},
     "output_type": "display_data"
    }
   ],
   "source": [
    "plt.figure(figsize=(2,2))\n",
    "plt.imshow(augmented, cmap=\"gray\")\n",
    "plt.axis(\"off\")"
   ]
  },
  {
   "cell_type": "markdown",
   "id": "5dcf33bd-4209-4604-8295-a4b99b7beb25",
   "metadata": {},
   "source": [
    "### Random Crop"
   ]
  },
  {
   "cell_type": "code",
   "execution_count": 25,
   "id": "566cafdc-a2bc-4cc2-ae5e-025c3358d843",
   "metadata": {},
   "outputs": [],
   "source": [
    "my_augmentation = A.Compose([\n",
    "    A.RandomResizedCrop(\n",
    "        p=1.0,\n",
    "        height=28,\n",
    "        width=28,\n",
    "        scale=(0.75, 1.0),\n",
    "        ratio=(0.75, 1.3333333333333333),\n",
    "        interpolation=0\n",
    "    )\n",
    "])\n",
    "augmented = my_augmentation(image=single_clase)[\"image\"]"
   ]
  },
  {
   "cell_type": "code",
   "execution_count": 26,
   "id": "188417e5-8b0a-453f-90ea-6c565ebb93a3",
   "metadata": {},
   "outputs": [
    {
     "data": {
      "text/plain": [
       "(-0.5, 27.5, 27.5, -0.5)"
      ]
     },
     "execution_count": 26,
     "metadata": {},
     "output_type": "execute_result"
    },
    {
     "data": {
      "image/png": "[encoded data removed]",
      "text/plain": [
       "<Figure size 200x200 with 1 Axes>"
      ]
     },
     "metadata": {},
     "output_type": "display_data"
    }
   ],
   "source": [
    "plt.figure(figsize=(2,2))\n",
    "plt.imshow(augmented, cmap=\"gray\")\n",
    "plt.axis(\"off\")"
   ]
  },
  {
   "cell_type": "markdown",
   "id": "de851ede-360b-4308-b2cf-71fbbaa3fb6d",
   "metadata": {},
   "source": [
    "### Shift & Scale & Rotate"
   ]
  },
  {
   "cell_type": "code",
   "execution_count": 70,
   "id": "4abf7a9c-1ab0-4f0e-99c9-d7c0d5d7c1be",
   "metadata": {},
   "outputs": [],
   "source": [
    "my_augmentation = A.Compose([\n",
    "    A.ShiftScaleRotate(\n",
    "        p=1.0,\n",
    "        shift_limit_x=(-0.25, 0.25),\n",
    "        shift_limit_y=(-0.25, 0.25),\n",
    "        scale_limit=0,\n",
    "        rotate_limit=0,\n",
    "        interpolation=0, border_mode=0, value=0, mask_value=None\n",
    "    )\n",
    "])\n",
    "augmented = my_augmentation(image=single_clase)[\"image\"]"
   ]
  },
  {
   "cell_type": "code",
   "execution_count": 71,
   "id": "7767f9c7-d47c-46c4-ad3d-5a0c99081ba2",
   "metadata": {},
   "outputs": [
    {
     "data": {
      "text/plain": [
       "(-0.5, 27.5, 27.5, -0.5)"
      ]
     },
     "execution_count": 71,
     "metadata": {},
     "output_type": "execute_result"
    },
    {
     "data": {
      "image/png": "[encoded data removed]",
      "text/plain": [
       "<Figure size 200x200 with 1 Axes>"
      ]
     },
     "metadata": {},
     "output_type": "display_data"
    }
   ],
   "source": [
    "plt.figure(figsize=(2,2))\n",
    "plt.imshow(augmented, cmap=\"gray\")\n",
    "plt.axis(\"off\")"
   ]
  }
 ],
 "metadata": {
  "kernelspec": {
   "display_name": "Python 3 (ipykernel)",
   "language": "python",
   "name": "python3"
  },
  "language_info": {
   "codemirror_mode": {
    "name": "ipython",
    "version": 3
   },
   "file_extension": ".py",
   "mimetype": "text/x-python",
   "name": "python",
   "nbconvert_exporter": "python",
   "pygments_lexer": "ipython3",
   "version": "3.10.11"
  }
 },
 "nbformat": 4,
 "nbformat_minor": 5
}
